{
 "cells": [
  {
   "cell_type": "code",
   "execution_count": 1,
   "id": "76622523",
   "metadata": {},
   "outputs": [],
   "source": [
    "import numpy as np\n",
    "import pandas as pd\n",
    "import matplotlib.pyplot as plt\n",
    "from keras.models import Sequential\n",
    "from keras.layers import Dense"
   ]
  },
  {
   "cell_type": "code",
   "execution_count": 3,
   "id": "973f6088",
   "metadata": {},
   "outputs": [
    {
     "data": {
      "text/html": [
       "<div>\n",
       "<style scoped>\n",
       "    .dataframe tbody tr th:only-of-type {\n",
       "        vertical-align: middle;\n",
       "    }\n",
       "\n",
       "    .dataframe tbody tr th {\n",
       "        vertical-align: top;\n",
       "    }\n",
       "\n",
       "    .dataframe thead th {\n",
       "        text-align: right;\n",
       "    }\n",
       "</style>\n",
       "<table border=\"1\" class=\"dataframe\">\n",
       "  <thead>\n",
       "    <tr style=\"text-align: right;\">\n",
       "      <th></th>\n",
       "      <th>Pregnancies</th>\n",
       "      <th>Glucose</th>\n",
       "      <th>BloodPressure</th>\n",
       "      <th>SkinThickness</th>\n",
       "      <th>Insulin</th>\n",
       "      <th>BMI</th>\n",
       "      <th>DiabetesPedigreeFunction</th>\n",
       "      <th>Age</th>\n",
       "      <th>Outcome</th>\n",
       "    </tr>\n",
       "  </thead>\n",
       "  <tbody>\n",
       "    <tr>\n",
       "      <th>0</th>\n",
       "      <td>6</td>\n",
       "      <td>148</td>\n",
       "      <td>72</td>\n",
       "      <td>35</td>\n",
       "      <td>0</td>\n",
       "      <td>33.6</td>\n",
       "      <td>0.627</td>\n",
       "      <td>50</td>\n",
       "      <td>1</td>\n",
       "    </tr>\n",
       "    <tr>\n",
       "      <th>1</th>\n",
       "      <td>1</td>\n",
       "      <td>85</td>\n",
       "      <td>66</td>\n",
       "      <td>29</td>\n",
       "      <td>0</td>\n",
       "      <td>26.6</td>\n",
       "      <td>0.351</td>\n",
       "      <td>31</td>\n",
       "      <td>0</td>\n",
       "    </tr>\n",
       "    <tr>\n",
       "      <th>2</th>\n",
       "      <td>8</td>\n",
       "      <td>183</td>\n",
       "      <td>64</td>\n",
       "      <td>0</td>\n",
       "      <td>0</td>\n",
       "      <td>23.3</td>\n",
       "      <td>0.672</td>\n",
       "      <td>32</td>\n",
       "      <td>1</td>\n",
       "    </tr>\n",
       "    <tr>\n",
       "      <th>3</th>\n",
       "      <td>1</td>\n",
       "      <td>89</td>\n",
       "      <td>66</td>\n",
       "      <td>23</td>\n",
       "      <td>94</td>\n",
       "      <td>28.1</td>\n",
       "      <td>0.167</td>\n",
       "      <td>21</td>\n",
       "      <td>0</td>\n",
       "    </tr>\n",
       "    <tr>\n",
       "      <th>4</th>\n",
       "      <td>0</td>\n",
       "      <td>137</td>\n",
       "      <td>40</td>\n",
       "      <td>35</td>\n",
       "      <td>168</td>\n",
       "      <td>43.1</td>\n",
       "      <td>2.288</td>\n",
       "      <td>33</td>\n",
       "      <td>1</td>\n",
       "    </tr>\n",
       "  </tbody>\n",
       "</table>\n",
       "</div>"
      ],
      "text/plain": [
       "   Pregnancies  Glucose  BloodPressure  SkinThickness  Insulin   BMI  \\\n",
       "0            6      148             72             35        0  33.6   \n",
       "1            1       85             66             29        0  26.6   \n",
       "2            8      183             64              0        0  23.3   \n",
       "3            1       89             66             23       94  28.1   \n",
       "4            0      137             40             35      168  43.1   \n",
       "\n",
       "   DiabetesPedigreeFunction  Age  Outcome  \n",
       "0                     0.627   50        1  \n",
       "1                     0.351   31        0  \n",
       "2                     0.672   32        1  \n",
       "3                     0.167   21        0  \n",
       "4                     2.288   33        1  "
      ]
     },
     "execution_count": 3,
     "metadata": {},
     "output_type": "execute_result"
    }
   ],
   "source": [
    "data = pd.read_csv('C:/Users/Abhi/Desktop/CSV files/Diabetes.csv')\n",
    "data.head()"
   ]
  },
  {
   "cell_type": "code",
   "execution_count": 4,
   "id": "3c2a2db2",
   "metadata": {},
   "outputs": [
    {
     "data": {
      "text/plain": [
       "<AxesSubplot:>"
      ]
     },
     "execution_count": 4,
     "metadata": {},
     "output_type": "execute_result"
    },
    {
     "data": {
      "image/png": "[encoded data removed]",
      "text/plain": [
       "<Figure size 432x288 with 1 Axes>"
      ]
     },
     "metadata": {
      "needs_background": "light"
     },
     "output_type": "display_data"
    }
   ],
   "source": [
    "import seaborn as sns\n",
    "data['Outcome'].value_counts().plot(kind = 'bar')"
   ]
  },
  {
   "cell_type": "code",
   "execution_count": 5,
   "id": "01a48723",
   "metadata": {},
   "outputs": [],
   "source": [
    "# splitting data \n",
    "X = data.iloc[:,0:8]\n",
    "y = data.iloc[:,8]\n"
   ]
  },
  {
   "cell_type": "code",
   "execution_count": 7,
   "id": "ff202a73",
   "metadata": {},
   "outputs": [
    {
     "name": "stdout",
     "output_type": "stream",
     "text": [
      "(576, 8) (576,)\n",
      "(192, 8) (192,)\n"
     ]
    }
   ],
   "source": [
    "from sklearn.model_selection import train_test_split\n",
    "X_train, X_test, y_train, y_test = train_test_split(X,y, test_size = 0.25, random_state = 42)\n",
    "print(X_train.shape, y_train.shape)\n",
    "print(X_test.shape, y_test.shape)"
   ]
  },
  {
   "cell_type": "code",
   "execution_count": 8,
   "id": "b996c7b5",
   "metadata": {},
   "outputs": [],
   "source": [
    "model = Sequential()\n",
    "model.add(Dense(16, input_dim = 8, activation = 'relu'))\n",
    "model.add(Dense(8, activation = 'relu'))\n",
    "model.add(Dense(1, activation = 'sigmoid'))"
   ]
  },
  {
   "cell_type": "code",
   "execution_count": 12,
   "id": "2fd1911f",
   "metadata": {},
   "outputs": [],
   "source": [
    "# compiling model\n",
    "model.compile(loss = 'binary_crossentropy', optimizer = 'adam', metrics = ['accuracy'])"
   ]
  },
  {
   "cell_type": "code",
   "execution_count": 13,
   "id": "875a56dc",
   "metadata": {},
   "outputs": [
    {
     "name": "stdout",
     "output_type": "stream",
     "text": [
      "Epoch 1/100\n",
      "58/58 [==============================] - 0s 2ms/step - loss: 7.3776 - accuracy: 0.4410\n",
      "Epoch 2/100\n",
      "58/58 [==============================] - 0s 2ms/step - loss: 2.8330 - accuracy: 0.4670\n",
      "Epoch 3/100\n",
      "58/58 [==============================] - 0s 2ms/step - loss: 2.3330 - accuracy: 0.4774\n",
      "Epoch 4/100\n",
      "58/58 [==============================] - 0s 2ms/step - loss: 2.0597 - accuracy: 0.4497\n",
      "Epoch 5/100\n",
      "58/58 [==============================] - 0s 2ms/step - loss: 1.7288 - accuracy: 0.5104\n",
      "Epoch 6/100\n",
      "58/58 [==============================] - 0s 2ms/step - loss: 1.4499 - accuracy: 0.5017\n",
      "Epoch 7/100\n",
      "58/58 [==============================] - 0s 2ms/step - loss: 1.2877 - accuracy: 0.5035\n",
      "Epoch 8/100\n",
      "58/58 [==============================] - 0s 2ms/step - loss: 1.1243 - accuracy: 0.5330\n",
      "Epoch 9/100\n",
      "58/58 [==============================] - 0s 2ms/step - loss: 1.0441 - accuracy: 0.5503\n",
      "Epoch 10/100\n",
      "58/58 [==============================] - 0s 2ms/step - loss: 0.9433 - accuracy: 0.5590\n",
      "Epoch 11/100\n",
      "58/58 [==============================] - 0s 2ms/step - loss: 0.8822 - accuracy: 0.5608\n",
      "Epoch 12/100\n",
      "58/58 [==============================] - 0s 2ms/step - loss: 0.8626 - accuracy: 0.5868\n",
      "Epoch 13/100\n",
      "58/58 [==============================] - 0s 2ms/step - loss: 0.7951 - accuracy: 0.5851\n",
      "Epoch 14/100\n",
      "58/58 [==============================] - 0s 2ms/step - loss: 0.7718 - accuracy: 0.6163\n",
      "Epoch 15/100\n",
      "58/58 [==============================] - 0s 2ms/step - loss: 0.7461 - accuracy: 0.6059\n",
      "Epoch 16/100\n",
      "58/58 [==============================] - 0s 2ms/step - loss: 0.6950 - accuracy: 0.6493\n",
      "Epoch 17/100\n",
      "58/58 [==============================] - 0s 2ms/step - loss: 0.7487 - accuracy: 0.6094\n",
      "Epoch 18/100\n",
      "58/58 [==============================] - 0s 2ms/step - loss: 0.6961 - accuracy: 0.6319\n",
      "Epoch 19/100\n",
      "58/58 [==============================] - 0s 2ms/step - loss: 0.6457 - accuracy: 0.6701\n",
      "Epoch 20/100\n",
      "58/58 [==============================] - 0s 3ms/step - loss: 0.6309 - accuracy: 0.6858\n",
      "Epoch 21/100\n",
      "58/58 [==============================] - 0s 2ms/step - loss: 0.6581 - accuracy: 0.6476\n",
      "Epoch 22/100\n",
      "58/58 [==============================] - 0s 2ms/step - loss: 0.6141 - accuracy: 0.6979\n",
      "Epoch 23/100\n",
      "58/58 [==============================] - 0s 2ms/step - loss: 0.5911 - accuracy: 0.6979\n",
      "Epoch 24/100\n",
      "58/58 [==============================] - 0s 2ms/step - loss: 0.6086 - accuracy: 0.6667\n",
      "Epoch 25/100\n",
      "58/58 [==============================] - 0s 2ms/step - loss: 0.5997 - accuracy: 0.6927\n",
      "Epoch 26/100\n",
      "58/58 [==============================] - 0s 2ms/step - loss: 0.6007 - accuracy: 0.6788\n",
      "Epoch 27/100\n",
      "58/58 [==============================] - 0s 2ms/step - loss: 0.5895 - accuracy: 0.6927\n",
      "Epoch 28/100\n",
      "58/58 [==============================] - 0s 2ms/step - loss: 0.6265 - accuracy: 0.6580\n",
      "Epoch 29/100\n",
      "58/58 [==============================] - 0s 2ms/step - loss: 0.6192 - accuracy: 0.6736\n",
      "Epoch 30/100\n",
      "58/58 [==============================] - 0s 2ms/step - loss: 0.5624 - accuracy: 0.7222\n",
      "Epoch 31/100\n",
      "58/58 [==============================] - 0s 2ms/step - loss: 0.6099 - accuracy: 0.6649\n",
      "Epoch 32/100\n",
      "58/58 [==============================] - 0s 2ms/step - loss: 0.5954 - accuracy: 0.7014\n",
      "Epoch 33/100\n",
      "58/58 [==============================] - 0s 2ms/step - loss: 0.5841 - accuracy: 0.7188\n",
      "Epoch 34/100\n",
      "58/58 [==============================] - 0s 2ms/step - loss: 0.5892 - accuracy: 0.7101\n",
      "Epoch 35/100\n",
      "58/58 [==============================] - 0s 2ms/step - loss: 0.5995 - accuracy: 0.6806\n",
      "Epoch 36/100\n",
      "58/58 [==============================] - 0s 2ms/step - loss: 0.5578 - accuracy: 0.7170\n",
      "Epoch 37/100\n",
      "58/58 [==============================] - 0s 2ms/step - loss: 0.5663 - accuracy: 0.6962\n",
      "Epoch 38/100\n",
      "58/58 [==============================] - 0s 2ms/step - loss: 0.5703 - accuracy: 0.6962\n",
      "Epoch 39/100\n",
      "58/58 [==============================] - 0s 2ms/step - loss: 0.6032 - accuracy: 0.6840\n",
      "Epoch 40/100\n",
      "58/58 [==============================] - 0s 2ms/step - loss: 0.5624 - accuracy: 0.7205\n",
      "Epoch 41/100\n",
      "58/58 [==============================] - 0s 2ms/step - loss: 0.5836 - accuracy: 0.6875\n",
      "Epoch 42/100\n",
      "58/58 [==============================] - 0s 2ms/step - loss: 0.5985 - accuracy: 0.6858\n",
      "Epoch 43/100\n",
      "58/58 [==============================] - 0s 3ms/step - loss: 0.5533 - accuracy: 0.7066\n",
      "Epoch 44/100\n",
      "58/58 [==============================] - 0s 3ms/step - loss: 0.6065 - accuracy: 0.7031\n",
      "Epoch 45/100\n",
      "58/58 [==============================] - 0s 2ms/step - loss: 0.5939 - accuracy: 0.7031\n",
      "Epoch 46/100\n",
      "58/58 [==============================] - 0s 2ms/step - loss: 0.5529 - accuracy: 0.7153\n",
      "Epoch 47/100\n",
      "58/58 [==============================] - 0s 2ms/step - loss: 0.5649 - accuracy: 0.7396\n",
      "Epoch 48/100\n",
      "58/58 [==============================] - 0s 2ms/step - loss: 0.6095 - accuracy: 0.6892\n",
      "Epoch 49/100\n",
      "58/58 [==============================] - 0s 2ms/step - loss: 0.6006 - accuracy: 0.6858\n",
      "Epoch 50/100\n",
      "58/58 [==============================] - 0s 2ms/step - loss: 0.5781 - accuracy: 0.7240\n",
      "Epoch 51/100\n",
      "58/58 [==============================] - 0s 2ms/step - loss: 0.5906 - accuracy: 0.6979\n",
      "Epoch 52/100\n",
      "58/58 [==============================] - 0s 2ms/step - loss: 0.5753 - accuracy: 0.7153\n",
      "Epoch 53/100\n",
      "58/58 [==============================] - 0s 2ms/step - loss: 0.5507 - accuracy: 0.7257\n",
      "Epoch 54/100\n",
      "58/58 [==============================] - 0s 2ms/step - loss: 0.5796 - accuracy: 0.7083\n",
      "Epoch 55/100\n",
      "58/58 [==============================] - 0s 2ms/step - loss: 0.5589 - accuracy: 0.7066\n",
      "Epoch 56/100\n",
      "58/58 [==============================] - 0s 2ms/step - loss: 0.5671 - accuracy: 0.7118\n",
      "Epoch 57/100\n",
      "58/58 [==============================] - 0s 2ms/step - loss: 0.5645 - accuracy: 0.6927\n",
      "Epoch 58/100\n",
      "58/58 [==============================] - 0s 2ms/step - loss: 0.5356 - accuracy: 0.7396\n",
      "Epoch 59/100\n",
      "58/58 [==============================] - 0s 2ms/step - loss: 0.5430 - accuracy: 0.7326\n",
      "Epoch 60/100\n",
      "58/58 [==============================] - 0s 2ms/step - loss: 0.5382 - accuracy: 0.7361\n",
      "Epoch 61/100\n",
      "58/58 [==============================] - 0s 2ms/step - loss: 0.5454 - accuracy: 0.7118\n",
      "Epoch 62/100\n",
      "58/58 [==============================] - 0s 2ms/step - loss: 0.5150 - accuracy: 0.7431\n",
      "Epoch 63/100\n",
      "58/58 [==============================] - 0s 2ms/step - loss: 0.5411 - accuracy: 0.7153\n",
      "Epoch 64/100\n",
      "58/58 [==============================] - 0s 2ms/step - loss: 0.5446 - accuracy: 0.7378\n",
      "Epoch 65/100\n",
      "58/58 [==============================] - 0s 2ms/step - loss: 0.5285 - accuracy: 0.7309\n",
      "Epoch 66/100\n",
      "58/58 [==============================] - 0s 2ms/step - loss: 0.5293 - accuracy: 0.7517\n",
      "Epoch 67/100\n",
      "58/58 [==============================] - 0s 2ms/step - loss: 0.5571 - accuracy: 0.7222\n",
      "Epoch 68/100\n",
      "58/58 [==============================] - 0s 2ms/step - loss: 0.5437 - accuracy: 0.7118\n",
      "Epoch 69/100\n",
      "58/58 [==============================] - 0s 2ms/step - loss: 0.5391 - accuracy: 0.7309\n",
      "Epoch 70/100\n",
      "58/58 [==============================] - 0s 2ms/step - loss: 0.5657 - accuracy: 0.7066\n",
      "Epoch 71/100\n",
      "58/58 [==============================] - 0s 2ms/step - loss: 0.5596 - accuracy: 0.7413\n",
      "Epoch 72/100\n",
      "58/58 [==============================] - 0s 2ms/step - loss: 0.5330 - accuracy: 0.7396\n",
      "Epoch 73/100\n",
      "58/58 [==============================] - 0s 2ms/step - loss: 0.5231 - accuracy: 0.7431\n",
      "Epoch 74/100\n",
      "58/58 [==============================] - 0s 2ms/step - loss: 0.5393 - accuracy: 0.7361\n",
      "Epoch 75/100\n",
      "58/58 [==============================] - 0s 2ms/step - loss: 0.5278 - accuracy: 0.7309\n",
      "Epoch 76/100\n",
      "58/58 [==============================] - 0s 2ms/step - loss: 0.5108 - accuracy: 0.7431\n",
      "Epoch 77/100\n",
      "58/58 [==============================] - 0s 2ms/step - loss: 0.5175 - accuracy: 0.7587\n",
      "Epoch 78/100\n",
      "58/58 [==============================] - 0s 2ms/step - loss: 0.5312 - accuracy: 0.7274\n",
      "Epoch 79/100\n",
      "58/58 [==============================] - 0s 2ms/step - loss: 0.5534 - accuracy: 0.6962\n",
      "Epoch 80/100\n",
      "58/58 [==============================] - 0s 2ms/step - loss: 0.5580 - accuracy: 0.7257\n",
      "Epoch 81/100\n",
      "58/58 [==============================] - 0s 2ms/step - loss: 0.5085 - accuracy: 0.7500\n",
      "Epoch 82/100\n",
      "58/58 [==============================] - 0s 2ms/step - loss: 0.6109 - accuracy: 0.6875\n",
      "Epoch 83/100\n"
     ]
    },
    {
     "name": "stdout",
     "output_type": "stream",
     "text": [
      "58/58 [==============================] - 0s 2ms/step - loss: 0.5116 - accuracy: 0.7396\n",
      "Epoch 84/100\n",
      "58/58 [==============================] - 0s 2ms/step - loss: 0.5449 - accuracy: 0.7483\n",
      "Epoch 85/100\n",
      "58/58 [==============================] - 0s 2ms/step - loss: 0.5198 - accuracy: 0.7396\n",
      "Epoch 86/100\n",
      "58/58 [==============================] - 0s 2ms/step - loss: 0.5104 - accuracy: 0.7569\n",
      "Epoch 87/100\n",
      "58/58 [==============================] - 0s 2ms/step - loss: 0.4896 - accuracy: 0.7535\n",
      "Epoch 88/100\n",
      "58/58 [==============================] - 0s 2ms/step - loss: 0.5328 - accuracy: 0.7500\n",
      "Epoch 89/100\n",
      "58/58 [==============================] - 0s 2ms/step - loss: 0.5107 - accuracy: 0.7587\n",
      "Epoch 90/100\n",
      "58/58 [==============================] - 0s 2ms/step - loss: 0.5358 - accuracy: 0.7378\n",
      "Epoch 91/100\n",
      "58/58 [==============================] - 0s 2ms/step - loss: 0.5090 - accuracy: 0.7431\n",
      "Epoch 92/100\n",
      "58/58 [==============================] - 0s 2ms/step - loss: 0.5683 - accuracy: 0.7135\n",
      "Epoch 93/100\n",
      "58/58 [==============================] - 0s 2ms/step - loss: 0.4980 - accuracy: 0.7569\n",
      "Epoch 94/100\n",
      "58/58 [==============================] - 0s 2ms/step - loss: 0.4902 - accuracy: 0.7622\n",
      "Epoch 95/100\n",
      "58/58 [==============================] - 0s 2ms/step - loss: 0.5065 - accuracy: 0.7656\n",
      "Epoch 96/100\n",
      "58/58 [==============================] - 0s 2ms/step - loss: 0.5016 - accuracy: 0.7500\n",
      "Epoch 97/100\n",
      "58/58 [==============================] - 0s 2ms/step - loss: 0.4897 - accuracy: 0.7552\n",
      "Epoch 98/100\n",
      "58/58 [==============================] - 0s 2ms/step - loss: 0.4965 - accuracy: 0.7535\n",
      "Epoch 99/100\n",
      "58/58 [==============================] - 0s 2ms/step - loss: 0.4951 - accuracy: 0.7726\n",
      "Epoch 100/100\n",
      "58/58 [==============================] - 0s 2ms/step - loss: 0.4943 - accuracy: 0.7569\n"
     ]
    },
    {
     "data": {
      "text/plain": [
       "<tensorflow.python.keras.callbacks.History at 0x1eb318f14c0>"
      ]
     },
     "execution_count": 13,
     "metadata": {},
     "output_type": "execute_result"
    }
   ],
   "source": [
    "# Fitting \n",
    "model.fit(X_train, y_train, epochs=100, batch_size = 10)"
   ]
  },
  {
   "cell_type": "code",
   "execution_count": 14,
   "id": "34a49d41",
   "metadata": {},
   "outputs": [
    {
     "name": "stdout",
     "output_type": "stream",
     "text": [
      "18/18 [==============================] - 0s 2ms/step - loss: 0.4819 - accuracy: 0.7656\n",
      "Train accuracy: 76.56\n"
     ]
    }
   ],
   "source": [
    "# Train accuracy\n",
    "_, accuracy = model.evaluate(X_train, y_train)\n",
    "print('Train accuracy: %.2f' % (accuracy*100))"
   ]
  },
  {
   "cell_type": "code",
   "execution_count": 15,
   "id": "ea18e57d",
   "metadata": {},
   "outputs": [
    {
     "name": "stdout",
     "output_type": "stream",
     "text": [
      "WARNING:tensorflow:From C:\\Users\\Abhi\\AppData\\Local\\Temp/ipykernel_33360/2551810375.py:3: Sequential.predict_classes (from tensorflow.python.keras.engine.sequential) is deprecated and will be removed after 2021-01-01.\n",
      "Instructions for updating:\n",
      "Please use instead:* `np.argmax(model.predict(x), axis=-1)`,   if your model does multi-class classification   (e.g. if it uses a `softmax` last-layer activation).* `(model.predict(x) > 0.5).astype(\"int32\")`,   if your model does binary classification   (e.g. if it uses a `sigmoid` last-layer activation).\n"
     ]
    },
    {
     "data": {
      "text/plain": [
       "0.7552083333333334"
      ]
     },
     "execution_count": 15,
     "metadata": {},
     "output_type": "execute_result"
    }
   ],
   "source": [
    "# Test accuracy\n",
    "from sklearn.metrics import accuracy_score\n",
    "y_pred = model.predict_classes(X_test)\n",
    "accuracy_score(y_test, y_pred)"
   ]
  },
  {
   "cell_type": "code",
   "execution_count": null,
   "id": "94d643fb",
   "metadata": {},
   "outputs": [],
   "source": []
  }
 ],
 "metadata": {
  "kernelspec": {
   "display_name": "Python 3 (ipykernel)",
   "language": "python",
   "name": "python3"
  },
  "language_info": {
   "codemirror_mode": {
    "name": "ipython",
    "version": 3
   },
   "file_extension": ".py",
   "mimetype": "text/x-python",
   "name": "python",
   "nbconvert_exporter": "python",
   "pygments_lexer": "ipython3",
   "version": "3.8.12"
  }
 },
 "nbformat": 4,
 "nbformat_minor": 5
}
